{
 "cells": [
  {
   "cell_type": "code",
   "execution_count": 1,
   "metadata": {},
   "outputs": [],
   "source": [
    "import pandas as pd"
   ]
  },
  {
   "cell_type": "code",
   "execution_count": 4,
   "metadata": {},
   "outputs": [
    {
     "data": {
      "text/html": [
       "<div>\n",
       "<style scoped>\n",
       "    .dataframe tbody tr th:only-of-type {\n",
       "        vertical-align: middle;\n",
       "    }\n",
       "\n",
       "    .dataframe tbody tr th {\n",
       "        vertical-align: top;\n",
       "    }\n",
       "\n",
       "    .dataframe thead th {\n",
       "        text-align: right;\n",
       "    }\n",
       "</style>\n",
       "<table border=\"1\" class=\"dataframe\">\n",
       "  <thead>\n",
       "    <tr style=\"text-align: right;\">\n",
       "      <th></th>\n",
       "      <th>Imagename</th>\n",
       "      <th>building</th>\n",
       "      <th>person</th>\n",
       "      <th>vehicle</th>\n",
       "      <th>weapon</th>\n",
       "    </tr>\n",
       "  </thead>\n",
       "  <tbody>\n",
       "    <tr>\n",
       "      <th>0</th>\n",
       "      <td>0.jpg</td>\n",
       "      <td>0.001056</td>\n",
       "      <td>0.001338</td>\n",
       "      <td>99.993912</td>\n",
       "      <td>0.003699</td>\n",
       "    </tr>\n",
       "    <tr>\n",
       "      <th>1</th>\n",
       "      <td>1.jpg</td>\n",
       "      <td>0.032958</td>\n",
       "      <td>0.025655</td>\n",
       "      <td>98.680252</td>\n",
       "      <td>1.261134</td>\n",
       "    </tr>\n",
       "    <tr>\n",
       "      <th>2</th>\n",
       "      <td>2.jpg</td>\n",
       "      <td>0.006661</td>\n",
       "      <td>0.043258</td>\n",
       "      <td>99.854881</td>\n",
       "      <td>0.095198</td>\n",
       "    </tr>\n",
       "    <tr>\n",
       "      <th>3</th>\n",
       "      <td>3.jpg</td>\n",
       "      <td>2.113762</td>\n",
       "      <td>3.086869</td>\n",
       "      <td>89.733925</td>\n",
       "      <td>5.065451</td>\n",
       "    </tr>\n",
       "    <tr>\n",
       "      <th>4</th>\n",
       "      <td>4.jpg</td>\n",
       "      <td>1.856437</td>\n",
       "      <td>26.776270</td>\n",
       "      <td>1.654727</td>\n",
       "      <td>69.712570</td>\n",
       "    </tr>\n",
       "    <tr>\n",
       "      <th>5</th>\n",
       "      <td>5.jpg</td>\n",
       "      <td>32.687958</td>\n",
       "      <td>38.169323</td>\n",
       "      <td>0.327840</td>\n",
       "      <td>28.814882</td>\n",
       "    </tr>\n",
       "    <tr>\n",
       "      <th>6</th>\n",
       "      <td>6.jpg</td>\n",
       "      <td>1.814513</td>\n",
       "      <td>14.430878</td>\n",
       "      <td>0.761085</td>\n",
       "      <td>82.993523</td>\n",
       "    </tr>\n",
       "    <tr>\n",
       "      <th>7</th>\n",
       "      <td>7.jpg</td>\n",
       "      <td>0.133223</td>\n",
       "      <td>41.710819</td>\n",
       "      <td>0.621600</td>\n",
       "      <td>57.534363</td>\n",
       "    </tr>\n",
       "  </tbody>\n",
       "</table>\n",
       "</div>"
      ],
      "text/plain": [
       "  Imagename   building     person    vehicle     weapon\n",
       "0     0.jpg   0.001056   0.001338  99.993912   0.003699\n",
       "1     1.jpg   0.032958   0.025655  98.680252   1.261134\n",
       "2     2.jpg   0.006661   0.043258  99.854881   0.095198\n",
       "3     3.jpg   2.113762   3.086869  89.733925   5.065451\n",
       "4     4.jpg   1.856437  26.776270   1.654727  69.712570\n",
       "5     5.jpg  32.687958  38.169323   0.327840  28.814882\n",
       "6     6.jpg   1.814513  14.430878   0.761085  82.993523\n",
       "7     7.jpg   0.133223  41.710819   0.621600  57.534363"
      ]
     },
     "execution_count": 4,
     "metadata": {},
     "output_type": "execute_result"
    }
   ],
   "source": [
    "filename=\"log_data.csv\"\n",
    "df=pd.read_csv(filename)\n",
    "df"
   ]
  },
  {
   "cell_type": "code",
   "execution_count": 58,
   "metadata": {},
   "outputs": [
    {
     "name": "stdout",
     "output_type": "stream",
     "text": [
      "vehicle\n",
      "vehicle\n",
      "vehicle\n",
      "vehicle\n",
      "weapon\n",
      "person\n",
      "weapon\n",
      "weapon\n"
     ]
    }
   ],
   "source": [
    "#creates txt files in cluster and populates them with respective filenames.\n",
    "i=0\n",
    "collst=list(df.columns)\n",
    "rowct=len(df.iloc[:,0])\n",
    "while i<rowct:\n",
    "    lst=list(df.iloc[i,1:5])\n",
    "    m=max(lst)\n",
    "    ind=lst.index(m)+1\n",
    "    colname=collst[ind]\n",
    "    print(colname)\n",
    "    with open('clusters/'+colname+'.txt', 'a') as f:\n",
    "        f.write(\"%s.jpg\\n\" %i)\n",
    "    i=i+1"
   ]
  }
 ],
 "metadata": {
  "kernelspec": {
   "display_name": "Python 3",
   "language": "python",
   "name": "python3"
  },
  "language_info": {
   "codemirror_mode": {
    "name": "ipython",
    "version": 3
   },
   "file_extension": ".py",
   "mimetype": "text/x-python",
   "name": "python",
   "nbconvert_exporter": "python",
   "pygments_lexer": "ipython3",
   "version": "3.7.3"
  }
 },
 "nbformat": 4,
 "nbformat_minor": 4
}
