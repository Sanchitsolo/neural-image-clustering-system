{
 "cells": [
  {
   "cell_type": "code",
   "execution_count": 39,
   "metadata": {},
   "outputs": [],
   "source": [
    "import os\n",
    "import cv2\n",
    "import numpy as np\n",
    "import imghdr\n",
    "import shutil"
   ]
  },
  {
   "cell_type": "code",
   "execution_count": 40,
   "metadata": {},
   "outputs": [],
   "source": [
    "folder=\"Weapon\"\n",
    "l=os.listdir(folder)\n",
    "for image in l:\n",
    "    if not image.endswith('.jpg'):    #function of imghdr\n",
    "        print(\"not jpg\",image)\n",
    "        try:\n",
    "            os.rename(os.path.join(folder,image),os.path.join(folder,str(image.split('.')[0])+'.jpg'))\n",
    "        except:\n",
    "            os.rename(os.path.join(folder,image),os.path.join(folder,str(image)+'.jpg'))"
   ]
  },
  {
   "cell_type": "code",
   "execution_count": 41,
   "metadata": {},
   "outputs": [],
   "source": [
    "l=os.listdir(folder)   #updating the list again after changes made to directory\n",
    "ln=len(l)\n",
    "p=int(ln/100*10)     #percentage split for val data\n",
    "val=list(np.random.choice(l, size=p))\n",
    "\n",
    "for i in val:\n",
    "    if val.count(i)!=1:\n",
    "        ind=val.index(i)\n",
    "        val[ind]=np.random.choice(l)\n",
    "\n",
    "os.mkdir(os.path.join('dataset','train',folder))\n",
    "os.mkdir(os.path.join('dataset','val',folder))\n",
    "    \n",
    "for image in val:\n",
    "    #im = cv2.imread(os.path.join(folder,image))\n",
    "    #cv2.imwrite(os.path.join('dataset','val',folder,image), im)\n",
    "    shutil.copy(os.path.join(folder,image), os.path.join('dataset','val',folder,image))\n",
    "\n",
    "train = list(set(l) - set(val))\n",
    "for image in train:\n",
    "    #im = cv2.imread(os.path.join(folder,image))\n",
    "    #cv2.imwrite(os.path.join('dataset','train',folder,image), im)\n",
    "    shutil.copy(os.path.join(folder,image), os.path.join('dataset','train',folder,image))"
   ]
  },
  {
   "cell_type": "code",
   "execution_count": 42,
   "metadata": {
    "scrolled": true
   },
   "outputs": [
    {
     "name": "stdout",
     "output_type": "stream",
     "text": [
      "Duplicates 0\n"
     ]
    }
   ],
   "source": [
    "#code for checking duplicate entries in validation set.\n",
    "c=0\n",
    "for i in val:\n",
    "    if val.count(i)!=1:\n",
    "        print(i)\n",
    "        print('count',val.count(i))\n",
    "        c+=1\n",
    "        \n",
    "print(\"Duplicates\",c)"
   ]
  },
  {
   "cell_type": "code",
   "execution_count": 27,
   "metadata": {},
   "outputs": [],
   "source": [
    "#for .JPEG images, added check for this in second cell\n",
    "lst=os.listdir(\"Weapon\")\n",
    "for image in lst:\n",
    "    os.rename(os.path.join(\"Weapon\",image),os.path.join(\"Weapon\",str(image.split('.')[0])+'.jpg'))"
   ]
  }
 ],
 "metadata": {
  "kernelspec": {
   "display_name": "Python 3",
   "language": "python",
   "name": "python3"
  },
  "language_info": {
   "codemirror_mode": {
    "name": "ipython",
    "version": 3
   },
   "file_extension": ".py",
   "mimetype": "text/x-python",
   "name": "python",
   "nbconvert_exporter": "python",
   "pygments_lexer": "ipython3",
   "version": "3.5.2"
  }
 },
 "nbformat": 4,
 "nbformat_minor": 2
}
